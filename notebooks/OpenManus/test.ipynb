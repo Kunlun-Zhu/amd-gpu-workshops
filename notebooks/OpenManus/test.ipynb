{
 "cells": [
  {
   "cell_type": "code",
   "execution_count": 1,
   "metadata": {},
   "outputs": [
    {
     "name": "stdout",
     "output_type": "stream",
     "text": [
      "CODE_OF_CONDUCT.md README_zh.md       main.py            test.ipynb\n",
      "Dockerfile         \u001b[34mapp\u001b[m\u001b[m                requirements.txt   \u001b[34mtests\u001b[m\u001b[m\n",
      "LICENSE            \u001b[34massets\u001b[m\u001b[m             run_flow.py        \u001b[34mworkspace\u001b[m\u001b[m\n",
      "README.md          \u001b[34mconfig\u001b[m\u001b[m             run_mcp.py\n",
      "README_ja.md       \u001b[34mexamples\u001b[m\u001b[m           run_mcp_server.py\n",
      "README_ko.md       \u001b[34mlogs\u001b[m\u001b[m               setup.py\n"
     ]
    }
   ],
   "source": [
    "!ls"
   ]
  },
  {
   "cell_type": "code",
   "execution_count": 4,
   "metadata": {},
   "outputs": [
    {
     "name": "stdout",
     "output_type": "stream",
     "text": [
      "Defaulting to user installation because normal site-packages is not writeable\n",
      "Collecting pydantic~=2.10.6 (from -r requirements.txt (line 1))\n",
      "  Using cached pydantic-2.10.6-py3-none-any.whl.metadata (30 kB)\n",
      "Collecting openai~=1.66.3 (from -r requirements.txt (line 2))\n",
      "  Using cached openai-1.66.5-py3-none-any.whl.metadata (24 kB)\n",
      "Collecting tenacity~=9.0.0 (from -r requirements.txt (line 3))\n",
      "  Using cached tenacity-9.0.0-py3-none-any.whl.metadata (1.2 kB)\n",
      "Requirement already satisfied: pyyaml~=6.0.2 in /Users/zhukunlun/Library/Python/3.9/lib/python/site-packages (from -r requirements.txt (line 4)) (6.0.2)\n",
      "Collecting loguru~=0.7.3 (from -r requirements.txt (line 5))\n",
      "  Using cached loguru-0.7.3-py3-none-any.whl.metadata (22 kB)\n",
      "Requirement already satisfied: numpy in /Users/zhukunlun/Library/Python/3.9/lib/python/site-packages (from -r requirements.txt (line 6)) (2.0.2)\n",
      "Collecting datasets~=3.4.1 (from -r requirements.txt (line 7))\n",
      "  Using cached datasets-3.4.1-py3-none-any.whl.metadata (19 kB)\n",
      "Collecting fastapi~=0.115.11 (from -r requirements.txt (line 8))\n",
      "  Using cached fastapi-0.115.12-py3-none-any.whl.metadata (27 kB)\n",
      "Collecting tiktoken~=0.9.0 (from -r requirements.txt (line 9))\n",
      "  Downloading tiktoken-0.9.0-cp39-cp39-macosx_11_0_arm64.whl.metadata (6.7 kB)\n",
      "Collecting html2text~=2024.2.26 (from -r requirements.txt (line 11))\n",
      "  Using cached html2text-2024.2.26.tar.gz (56 kB)\n",
      "  Preparing metadata (setup.py) ... \u001b[?25ldone\n",
      "\u001b[?25hCollecting gymnasium~=1.1.1 (from -r requirements.txt (line 12))\n",
      "  Using cached gymnasium-1.1.1-py3-none-any.whl.metadata (9.4 kB)\n",
      "Collecting pillow~=11.1.0 (from -r requirements.txt (line 13))\n",
      "  Downloading pillow-11.1.0-cp39-cp39-macosx_11_0_arm64.whl.metadata (9.1 kB)\n",
      "Collecting browsergym~=0.13.3 (from -r requirements.txt (line 14))\n",
      "  Using cached browsergym-0.13.3-py3-none-any.whl.metadata (1.1 kB)\n",
      "Collecting uvicorn~=0.34.0 (from -r requirements.txt (line 15))\n",
      "  Using cached uvicorn-0.34.2-py3-none-any.whl.metadata (6.5 kB)\n",
      "Collecting unidiff~=0.7.5 (from -r requirements.txt (line 16))\n",
      "  Using cached unidiff-0.7.5-py2.py3-none-any.whl.metadata (4.6 kB)\n",
      "\u001b[31mERROR: Ignored the following versions that require a different python version: 0.1.0 Requires-Python >=3.11; 0.1.1 Requires-Python >=3.11; 0.1.10 Requires-Python >=3.11; 0.1.11 Requires-Python >=3.11; 0.1.12 Requires-Python >=3.11; 0.1.13 Requires-Python >=3.11; 0.1.14 Requires-Python >=3.11; 0.1.15 Requires-Python >=3.11; 0.1.16 Requires-Python >=3.11; 0.1.17 Requires-Python >=3.11; 0.1.18 Requires-Python >=3.11; 0.1.19 Requires-Python >=3.11; 0.1.20 Requires-Python >=3.11; 0.1.21 Requires-Python >=3.11; 0.1.22 Requires-Python >=3.11; 0.1.23 Requires-Python >=3.11; 0.1.24 Requires-Python >=3.11; 0.1.25 Requires-Python >=3.11; 0.1.26 Requires-Python >=3.11; 0.1.27 Requires-Python >=3.11; 0.1.28 Requires-Python >=3.11; 0.1.29 Requires-Python >=3.11; 0.1.3 Requires-Python >=3.11; 0.1.30 Requires-Python >=3.11; 0.1.31 Requires-Python <4.0,>=3.11; 0.1.32 Requires-Python <4.0,>=3.11; 0.1.33 Requires-Python <4.0,>=3.11; 0.1.34 Requires-Python <4.0,>=3.11; 0.1.35 Requires-Python <4.0,>=3.11; 0.1.36 Requires-Python <4.0,>=3.11; 0.1.37 Requires-Python <4.0,>=3.11; 0.1.38 Requires-Python <4.0,>=3.11; 0.1.39 Requires-Python <4.0,>=3.11; 0.1.4 Requires-Python >=3.11; 0.1.40 Requires-Python <4.0,>=3.11; 0.1.41 Requires-Python <4.0,>=3.11; 0.1.42 Requires-Python <4.0,>=3.11; 0.1.43 Requires-Python <4.0,>=3.11; 0.1.45 Requires-Python <4.0,>=3.11; 0.1.46 Requires-Python <4.0,>=3.11; 0.1.47 Requires-Python <4.0,>=3.11; 0.1.48 Requires-Python <4.0,>=3.11; 0.1.5 Requires-Python >=3.11; 0.1.6 Requires-Python >=3.11; 0.1.7 Requires-Python >=3.11; 0.1.8 Requires-Python >=3.11; 0.13.4 Requires-Python >3.10; 0.2.1 Requires-Python <4.0,>=3.11; 0.2.2 Requires-Python <4.0,>=3.11; 0.2.3 Requires-Python <4.0,>=3.11; 0.2.4 Requires-Python <4.0,>=3.11\u001b[0m\u001b[31m\n",
      "\u001b[0m\u001b[31mERROR: Could not find a version that satisfies the requirement browser-use~=0.1.40 (from versions: none)\u001b[0m\u001b[31m\n",
      "\u001b[0m\n",
      "\u001b[1m[\u001b[0m\u001b[34;49mnotice\u001b[0m\u001b[1;39;49m]\u001b[0m\u001b[39;49m A new release of pip is available: \u001b[0m\u001b[31;49m24.2\u001b[0m\u001b[39;49m -> \u001b[0m\u001b[32;49m25.1.1\u001b[0m\n",
      "\u001b[1m[\u001b[0m\u001b[34;49mnotice\u001b[0m\u001b[1;39;49m]\u001b[0m\u001b[39;49m To update, run: \u001b[0m\u001b[32;49m/Library/Developer/CommandLineTools/usr/bin/python3 -m pip install --upgrade pip\u001b[0m\n",
      "\u001b[31mERROR: No matching distribution found for browser-use~=0.1.40\u001b[0m\u001b[31m\n",
      "\u001b[0m"
     ]
    }
   ],
   "source": [
    "!pip install -r requirements.txt"
   ]
  },
  {
   "cell_type": "code",
   "execution_count": 6,
   "metadata": {},
   "outputs": [
    {
     "name": "stderr",
     "output_type": "stream",
     "text": [
      "Python(27636) MallocStackLogging: can't turn off malloc stack logging because it was not enabled.\n"
     ]
    },
    {
     "name": "stdout",
     "output_type": "stream",
     "text": [
      "zsh:1: command not found: conda\n"
     ]
    }
   ],
   "source": [
    "!conda activate open_manus"
   ]
  },
  {
   "cell_type": "code",
   "execution_count": 5,
   "metadata": {},
   "outputs": [
    {
     "name": "stdout",
     "output_type": "stream",
     "text": [
      "Warning: Unsupported Python version 3.9.6.final.0, please use 3.11-3.13\n",
      "Traceback (most recent call last):\n",
      "  File \"/Users/zhukunlun/Documents/GitHub/OpenManus/main.py\", line 3, in <module>\n",
      "    from app.agent.manus import Manus\n",
      "  File \"/Users/zhukunlun/Documents/GitHub/OpenManus/app/agent/__init__.py\", line 1, in <module>\n",
      "    from app.agent.base import BaseAgent\n",
      "  File \"/Users/zhukunlun/Documents/GitHub/OpenManus/app/agent/base.py\", line 7, in <module>\n",
      "    from app.llm import LLM\n",
      "  File \"/Users/zhukunlun/Documents/GitHub/OpenManus/app/llm.py\", line 4, in <module>\n",
      "    import tiktoken\n",
      "ModuleNotFoundError: No module named 'tiktoken'\n"
     ]
    }
   ],
   "source": [
    "!python3 main.py"
   ]
  },
  {
   "cell_type": "code",
   "execution_count": 7,
   "metadata": {},
   "outputs": [
    {
     "name": "stderr",
     "output_type": "stream",
     "text": [
      "Python(27672) MallocStackLogging: can't turn off malloc stack logging because it was not enabled.\n"
     ]
    },
    {
     "name": "stdout",
     "output_type": "stream",
     "text": [
      "downloading uv 0.7.8 aarch64-apple-darwin\n",
      "no checksums to verify\n",
      "installing to /Users/zhukunlun/.local/bin\n",
      "  uv\n",
      "  uvx\n",
      "everything's installed!\n",
      "sh: line 1395: /Users/zhukunlun/.bash_profile: Permission denied\n",
      "sh: line 1396: /Users/zhukunlun/.bash_profile: Permission denied\n",
      "sh: line 1395: /Users/zhukunlun/.zshrc: Permission denied\n",
      "sh: line 1396: /Users/zhukunlun/.zshrc: Permission denied\n",
      "mkdir: /Users/zhukunlun/.config/fish/conf.d: Permission denied\n",
      "\u001b[31mERROR\u001b[m: command failed: mkdir -p /Users/zhukunlun/.config/fish/conf.d\n"
     ]
    }
   ],
   "source": [
    "!curl -LsSf https://astral.sh/uv/install.sh | sh"
   ]
  },
  {
   "cell_type": "code",
   "execution_count": null,
   "metadata": {},
   "outputs": [],
   "source": []
  },
  {
   "cell_type": "markdown",
   "metadata": {},
   "source": [
    "# AMD AgentWorkshop\n",
    "\n",
    "## 1. How to setup the vllm server to get the key and endpoint\n",
    "\n",
    "## 2. Set the key and the endpoint into the configuration file\n",
    "\n",
    "## 3. Run an Example; start with one intro example, a example using multiple tools (MCP with openmanus)\n",
    "\n",
    "## 4. let the user run their own Example with MCP ? Make a challenge for themselve\n",
    "\n",
    "### information about today as the basic prompt: location, date, event, \n",
    "\n"
   ]
  },
  {
   "cell_type": "code",
   "execution_count": 16,
   "metadata": {},
   "outputs": [
    {
     "name": "stderr",
     "output_type": "stream",
     "text": [
      "python(4993) MallocStackLogging: can't turn off malloc stack logging because it was not enabled.\n"
     ]
    },
    {
     "name": "stdout",
     "output_type": "stream",
     "text": [
      "INFO     [browser_use] BrowserUse logging setup complete with level info\n",
      "INFO     [root] Anonymized telemetry enabled. See https://docs.browser-use.com/development/telemetry for more information.\n",
      "\u001b[32m2025-05-30 08:39:13.387\u001b[0m | \u001b[33m\u001b[1mWARNING \u001b[0m | \u001b[36m__main__\u001b[0m:\u001b[36mmain\u001b[0m:\u001b[36m23\u001b[0m - \u001b[33m\u001b[1mProcessing your request...\u001b[0m\n",
      "\u001b[32m2025-05-30 08:39:13.387\u001b[0m | \u001b[1mINFO    \u001b[0m | \u001b[36mapp.agent.base\u001b[0m:\u001b[36mrun\u001b[0m:\u001b[36m140\u001b[0m - \u001b[1mExecuting step 1/20\u001b[0m\n",
      "\u001b[32m2025-05-30 08:39:13.513\u001b[0m | \u001b[31m\u001b[1mERROR   \u001b[0m | \u001b[36mapp.llm\u001b[0m:\u001b[36mask_tool\u001b[0m:\u001b[36m756\u001b[0m - \u001b[31m\u001b[1mOpenAI API error: Error code: 400 - {'object': 'error', 'message': 'Conversation roles must alternate user/assistant/user/assistant/...', 'type': 'BadRequestError', 'param': None, 'code': 400}\u001b[0m\n",
      "\u001b[32m2025-05-30 08:39:13.514\u001b[0m | \u001b[31m\u001b[1mERROR   \u001b[0m | \u001b[36mapp.llm\u001b[0m:\u001b[36mask_tool\u001b[0m:\u001b[36m762\u001b[0m - \u001b[31m\u001b[1mAPI error: Error code: 400 - {'object': 'error', 'message': 'Conversation roles must alternate user/assistant/user/assistant/...', 'type': 'BadRequestError', 'param': None, 'code': 400}\u001b[0m\n",
      "\u001b[32m2025-05-30 08:39:14.575\u001b[0m | \u001b[31m\u001b[1mERROR   \u001b[0m | \u001b[36mapp.llm\u001b[0m:\u001b[36mask_tool\u001b[0m:\u001b[36m756\u001b[0m - \u001b[31m\u001b[1mOpenAI API error: Error code: 400 - {'object': 'error', 'message': 'Conversation roles must alternate user/assistant/user/assistant/...', 'type': 'BadRequestError', 'param': None, 'code': 400}\u001b[0m\n",
      "\u001b[32m2025-05-30 08:39:14.575\u001b[0m | \u001b[31m\u001b[1mERROR   \u001b[0m | \u001b[36mapp.llm\u001b[0m:\u001b[36mask_tool\u001b[0m:\u001b[36m762\u001b[0m - \u001b[31m\u001b[1mAPI error: Error code: 400 - {'object': 'error', 'message': 'Conversation roles must alternate user/assistant/user/assistant/...', 'type': 'BadRequestError', 'param': None, 'code': 400}\u001b[0m\n",
      "\u001b[32m2025-05-30 08:39:16.557\u001b[0m | \u001b[31m\u001b[1mERROR   \u001b[0m | \u001b[36mapp.llm\u001b[0m:\u001b[36mask_tool\u001b[0m:\u001b[36m756\u001b[0m - \u001b[31m\u001b[1mOpenAI API error: Error code: 400 - {'object': 'error', 'message': 'Conversation roles must alternate user/assistant/user/assistant/...', 'type': 'BadRequestError', 'param': None, 'code': 400}\u001b[0m\n",
      "\u001b[32m2025-05-30 08:39:16.558\u001b[0m | \u001b[31m\u001b[1mERROR   \u001b[0m | \u001b[36mapp.llm\u001b[0m:\u001b[36mask_tool\u001b[0m:\u001b[36m762\u001b[0m - \u001b[31m\u001b[1mAPI error: Error code: 400 - {'object': 'error', 'message': 'Conversation roles must alternate user/assistant/user/assistant/...', 'type': 'BadRequestError', 'param': None, 'code': 400}\u001b[0m\n",
      "\u001b[32m2025-05-30 08:39:18.759\u001b[0m | \u001b[31m\u001b[1mERROR   \u001b[0m | \u001b[36mapp.llm\u001b[0m:\u001b[36mask_tool\u001b[0m:\u001b[36m756\u001b[0m - \u001b[31m\u001b[1mOpenAI API error: Error code: 400 - {'object': 'error', 'message': 'Conversation roles must alternate user/assistant/user/assistant/...', 'type': 'BadRequestError', 'param': None, 'code': 400}\u001b[0m\n",
      "\u001b[32m2025-05-30 08:39:18.759\u001b[0m | \u001b[31m\u001b[1mERROR   \u001b[0m | \u001b[36mapp.llm\u001b[0m:\u001b[36mask_tool\u001b[0m:\u001b[36m762\u001b[0m - \u001b[31m\u001b[1mAPI error: Error code: 400 - {'object': 'error', 'message': 'Conversation roles must alternate user/assistant/user/assistant/...', 'type': 'BadRequestError', 'param': None, 'code': 400}\u001b[0m\n",
      "^C\n",
      "\u001b[32m2025-05-30 08:39:20.403\u001b[0m | \u001b[1mINFO    \u001b[0m | \u001b[36mapp.tool.mcp\u001b[0m:\u001b[36mdisconnect\u001b[0m:\u001b[36m175\u001b[0m - \u001b[1mDisconnected from all MCP servers\u001b[0m\n",
      "Traceback (most recent call last):\n",
      "  File \"/opt/anaconda3/envs/open_manus/lib/python3.12/asyncio/runners.py\", line 118, in run\n",
      "    return self._loop.run_until_complete(task)\n",
      "           ^^^^^^^^^^^^^^^^^^^^^^^^^^^^^^^^^^^\n",
      "  File \"/opt/anaconda3/envs/open_manus/lib/python3.12/asyncio/base_events.py\", line 691, in run_until_complete\n",
      "    return future.result()\n",
      "           ^^^^^^^^^^^^^^^\n",
      "  File \"/Users/zhukunlun/Documents/GitHub/OpenManus/main.py\", line 24, in main\n",
      "    await agent.run(prompt)\n",
      "  File \"/Users/zhukunlun/Documents/GitHub/OpenManus/app/agent/toolcall.py\", line 248, in run\n",
      "    return await super().run(request)\n",
      "           ^^^^^^^^^^^^^^^^^^^^^^^^^^\n",
      "  File \"/Users/zhukunlun/Documents/GitHub/OpenManus/app/agent/base.py\", line 141, in run\n",
      "    step_result = await self.step()\n",
      "                  ^^^^^^^^^^^^^^^^^\n",
      "  File \"/Users/zhukunlun/Documents/GitHub/OpenManus/app/agent/react.py\", line 35, in step\n",
      "    should_act = await self.think()\n",
      "                 ^^^^^^^^^^^^^^^^^^\n",
      "  File \"/Users/zhukunlun/Documents/GitHub/OpenManus/app/agent/manus.py\", line 160, in think\n",
      "    result = await super().think()\n",
      "             ^^^^^^^^^^^^^^^^^^^^^\n",
      "  File \"/Users/zhukunlun/Documents/GitHub/OpenManus/app/agent/toolcall.py\", line 47, in think\n",
      "    response = await self.llm.ask_tool(\n",
      "               ^^^^^^^^^^^^^^^^^^^^^^^^\n",
      "  File \"/opt/anaconda3/envs/open_manus/lib/python3.12/site-packages/tenacity/asyncio/__init__.py\", line 189, in async_wrapped\n",
      "    return await copy(fn, *args, **kwargs)\n",
      "           ^^^^^^^^^^^^^^^^^^^^^^^^^^^^^^^\n",
      "  File \"/opt/anaconda3/envs/open_manus/lib/python3.12/site-packages/tenacity/asyncio/__init__.py\", line 121, in __call__\n",
      "    await self.sleep(do)  # type: ignore[misc]\n",
      "    ^^^^^^^^^^^^^^^^^^^^\n",
      "  File \"/opt/anaconda3/envs/open_manus/lib/python3.12/asyncio/tasks.py\", line 665, in sleep\n",
      "    return await future\n",
      "           ^^^^^^^^^^^^\n",
      "asyncio.exceptions.CancelledError\n",
      "\n",
      "During handling of the above exception, another exception occurred:\n",
      "\n",
      "Traceback (most recent call last):\n",
      "  File \"/Users/zhukunlun/Documents/GitHub/OpenManus/main.py\", line 34, in <module>\n",
      "    asyncio.run(main())\n",
      "  File \"/opt/anaconda3/envs/open_manus/lib/python3.12/asyncio/runners.py\", line 195, in run\n",
      "    return runner.run(main)\n",
      "           ^^^^^^^^^^^^^^^^\n",
      "  File \"/opt/anaconda3/envs/open_manus/lib/python3.12/asyncio/runners.py\", line 123, in run\n",
      "    raise KeyboardInterrupt()\n",
      "KeyboardInterrupt\n"
     ]
    }
   ],
   "source": [
    "!python main.py --prompt \"I am at San Jose, I want to make a mapo tofu,plese instuct me what should I buy all the ingredientsat what stores and how to do it\""
   ]
  }
 ],
 "metadata": {
  "kernelspec": {
   "display_name": "Python 3",
   "language": "python",
   "name": "python3"
  },
  "language_info": {
   "codemirror_mode": {
    "name": "ipython",
    "version": 3
   },
   "file_extension": ".py",
   "mimetype": "text/x-python",
   "name": "python",
   "nbconvert_exporter": "python",
   "pygments_lexer": "ipython3",
   "version": "3.12.9"
  }
 },
 "nbformat": 4,
 "nbformat_minor": 2
}
